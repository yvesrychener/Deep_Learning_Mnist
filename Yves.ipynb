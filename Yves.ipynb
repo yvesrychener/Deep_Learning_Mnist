{
 "cells": [
  {
   "cell_type": "markdown",
   "metadata": {},
   "source": [
    "# MNIST Project"
   ]
  },
  {
   "cell_type": "markdown",
   "metadata": {},
   "source": [
    "## Imports"
   ]
  },
  {
   "cell_type": "code",
   "execution_count": 1,
   "metadata": {},
   "outputs": [],
   "source": [
    "import torch\n",
    "from torch import Tensor \n",
    "from torch import nn\n",
    "from torch import optim\n",
    "from torch.nn import functional as F\n",
    "from torch.autograd import Variable\n",
    "import src.dlc_practical_prologue as prologue"
   ]
  },
  {
   "cell_type": "markdown",
   "metadata": {},
   "source": [
    "## Loading the Data"
   ]
  },
  {
   "cell_type": "code",
   "execution_count": 2,
   "metadata": {},
   "outputs": [],
   "source": [
    "def onehot_Y(target):\n",
    "    '''\n",
    "    Create one-hot labels for Y\n",
    "    '''\n",
    "    res = torch.zeros(target.size(0), 2)\n",
    "    res[range(target.size(0)), target] = 1\n",
    "    return res"
   ]
  },
  {
   "cell_type": "code",
   "execution_count": 3,
   "metadata": {},
   "outputs": [],
   "source": [
    "def onehot_Class(target):\n",
    "    res = torch.zeros(target.size(0), 10*target.size(1))\n",
    "    res[range(target.size(0)), target[:, 0]] = 1\n",
    "    res[range(target.size(0)), target[:, 1] + 10] = 1\n",
    "    return res"
   ]
  },
  {
   "cell_type": "code",
   "execution_count": 4,
   "metadata": {},
   "outputs": [],
   "source": [
    "N = 1000\n",
    "train_X, train_Y, train_Class, test_X, test_Y, test_Class = prologue.generate_pair_sets(N)"
   ]
  },
  {
   "cell_type": "code",
   "execution_count": 5,
   "metadata": {},
   "outputs": [],
   "source": [
    "#train_Y = onehot_Y(train_Y).long()\n",
    "#train_Class = onehot_Class(train_Class).long()\n",
    "#test_Y = onehot_Y(test_Y).long()\n",
    "#test_Class = onehot_Class(test_Class).long()"
   ]
  },
  {
   "cell_type": "code",
   "execution_count": 6,
   "metadata": {
    "scrolled": true
   },
   "outputs": [
    {
     "data": {
      "text/plain": [
       "tensor([[[[-0.4653, -0.4653, -0.4653,  ..., -0.4653, -0.4653, -0.4653],\n",
       "          [-0.4653, -0.4653, -0.4653,  ..., -0.4653, -0.4653, -0.4653],\n",
       "          [-0.4653, -0.4653, -0.4653,  ..., -0.4653, -0.4653, -0.4653],\n",
       "          ...,\n",
       "          [-0.4653, -0.4653, -0.4653,  ..., -0.4653, -0.4653, -0.4653],\n",
       "          [-0.4653, -0.4653, -0.4653,  ..., -0.4653, -0.4653, -0.4653],\n",
       "          [-0.4653, -0.4653, -0.4653,  ..., -0.4653, -0.4653, -0.4653]],\n",
       "\n",
       "         [[-0.4653, -0.4653, -0.4653,  ..., -0.4653, -0.4653, -0.4653],\n",
       "          [-0.4653, -0.4653, -0.4653,  ..., -0.4653, -0.4653, -0.4653],\n",
       "          [-0.4653, -0.4653, -0.4653,  ..., -0.4653, -0.4653, -0.4653],\n",
       "          ...,\n",
       "          [-0.4653, -0.4653, -0.4653,  ..., -0.4653, -0.4653, -0.4653],\n",
       "          [-0.4653, -0.4653, -0.4653,  ..., -0.4653, -0.4653, -0.4653],\n",
       "          [-0.4653, -0.4653, -0.4653,  ..., -0.4653, -0.4653, -0.4653]]],\n",
       "\n",
       "\n",
       "        [[[-0.4653, -0.4653, -0.4653,  ..., -0.4653, -0.4653, -0.4653],\n",
       "          [-0.4653, -0.4653, -0.4653,  ..., -0.4653, -0.4653, -0.4653],\n",
       "          [-0.4653, -0.4653, -0.4653,  ..., -0.4653, -0.4653, -0.4653],\n",
       "          ...,\n",
       "          [-0.4653, -0.4653, -0.4653,  ..., -0.4653, -0.4653, -0.4653],\n",
       "          [-0.4653, -0.4653, -0.4653,  ..., -0.4653, -0.4653, -0.4653],\n",
       "          [-0.4653, -0.4653, -0.4653,  ..., -0.4653, -0.4653, -0.4653]],\n",
       "\n",
       "         [[-0.4653, -0.4653, -0.4653,  ..., -0.4653, -0.4653, -0.4653],\n",
       "          [-0.4653, -0.4653, -0.4653,  ..., -0.4653, -0.4653, -0.4653],\n",
       "          [-0.4653, -0.4653, -0.4653,  ..., -0.4653, -0.4653, -0.4653],\n",
       "          ...,\n",
       "          [-0.4653, -0.4653, -0.4653,  ..., -0.4653, -0.4653, -0.4653],\n",
       "          [-0.4653, -0.4653, -0.4653,  ..., -0.4653, -0.4653, -0.4653],\n",
       "          [-0.4653, -0.4653, -0.4653,  ..., -0.4653, -0.4653, -0.4653]]],\n",
       "\n",
       "\n",
       "        [[[-0.4653, -0.4653, -0.4653,  ..., -0.4653, -0.4653, -0.4653],\n",
       "          [-0.4653, -0.4653, -0.4653,  ..., -0.4653, -0.4653, -0.4653],\n",
       "          [-0.4653, -0.4653, -0.4653,  ..., -0.4653, -0.4653, -0.4653],\n",
       "          ...,\n",
       "          [-0.4653, -0.4653, -0.4653,  ..., -0.4653, -0.4653, -0.4653],\n",
       "          [-0.4653, -0.4653, -0.4653,  ..., -0.4653, -0.4653, -0.4653],\n",
       "          [-0.4653, -0.4653, -0.4653,  ..., -0.4653, -0.4653, -0.4653]],\n",
       "\n",
       "         [[-0.4653, -0.4653, -0.4653,  ..., -0.4653, -0.4653, -0.4653],\n",
       "          [-0.4653, -0.4653, -0.4653,  ..., -0.4653, -0.4653, -0.4653],\n",
       "          [-0.4653, -0.4653, -0.4653,  ..., -0.4653, -0.4653, -0.4653],\n",
       "          ...,\n",
       "          [-0.4653, -0.4653, -0.4653,  ..., -0.4653, -0.4653, -0.4653],\n",
       "          [-0.4653, -0.4653, -0.4653,  ..., -0.4653, -0.4653, -0.4653],\n",
       "          [-0.4653, -0.4653, -0.4653,  ..., -0.4653, -0.4653, -0.4653]]],\n",
       "\n",
       "\n",
       "        ...,\n",
       "\n",
       "\n",
       "        [[[-0.4653, -0.4653, -0.4653,  ..., -0.4653, -0.4653, -0.4653],\n",
       "          [-0.4653, -0.4653, -0.4653,  ..., -0.4653, -0.4653, -0.4653],\n",
       "          [-0.4653, -0.4653, -0.4653,  ..., -0.4653, -0.4653, -0.4653],\n",
       "          ...,\n",
       "          [-0.4653, -0.4653, -0.4653,  ..., -0.4653, -0.4653, -0.4653],\n",
       "          [-0.4653, -0.4653, -0.4653,  ..., -0.4653, -0.4653, -0.4653],\n",
       "          [-0.4653, -0.4653, -0.4653,  ..., -0.4653, -0.4653, -0.4653]],\n",
       "\n",
       "         [[-0.4653, -0.4653, -0.4653,  ..., -0.4653, -0.4653, -0.4653],\n",
       "          [-0.4653, -0.4653, -0.4653,  ..., -0.4653, -0.4653, -0.4653],\n",
       "          [-0.4653, -0.4653, -0.4653,  ..., -0.4653, -0.4653, -0.4653],\n",
       "          ...,\n",
       "          [-0.4653, -0.4653, -0.4653,  ..., -0.4653, -0.4653, -0.4653],\n",
       "          [-0.4653, -0.4653, -0.4653,  ..., -0.4653, -0.4653, -0.4653],\n",
       "          [-0.4653, -0.4653, -0.4653,  ..., -0.4653, -0.4653, -0.4653]]],\n",
       "\n",
       "\n",
       "        [[[-0.4653, -0.4653, -0.4653,  ..., -0.4653, -0.4653, -0.4653],\n",
       "          [-0.4653, -0.4653, -0.4653,  ..., -0.4653, -0.4653, -0.4653],\n",
       "          [-0.4653, -0.4653, -0.4653,  ..., -0.4653, -0.4653, -0.4653],\n",
       "          ...,\n",
       "          [-0.4653, -0.4653, -0.4653,  ..., -0.4653, -0.4653, -0.4653],\n",
       "          [-0.4653, -0.4653, -0.4653,  ..., -0.4653, -0.4653, -0.4653],\n",
       "          [-0.4653, -0.4653, -0.4653,  ..., -0.4653, -0.4653, -0.4653]],\n",
       "\n",
       "         [[-0.4653, -0.4653, -0.4653,  ..., -0.4653, -0.4653, -0.4653],\n",
       "          [-0.4653, -0.4653, -0.4653,  ..., -0.4653, -0.4653, -0.4653],\n",
       "          [-0.4653, -0.4653, -0.4653,  ..., -0.4653, -0.4653, -0.4653],\n",
       "          ...,\n",
       "          [-0.4653, -0.4653, -0.4653,  ..., -0.4653, -0.4653, -0.4653],\n",
       "          [-0.4653, -0.4653, -0.4653,  ..., -0.4653, -0.4653, -0.4653],\n",
       "          [-0.4653, -0.4653, -0.4653,  ..., -0.4653, -0.4653, -0.4653]]],\n",
       "\n",
       "\n",
       "        [[[-0.4653, -0.4653, -0.4653,  ..., -0.4653, -0.4653, -0.4653],\n",
       "          [-0.4653, -0.4653, -0.4653,  ..., -0.4653, -0.4653, -0.4653],\n",
       "          [-0.4653, -0.4653, -0.4653,  ..., -0.4653, -0.4653, -0.4653],\n",
       "          ...,\n",
       "          [-0.4653, -0.4653, -0.4653,  ..., -0.4653, -0.4653, -0.4653],\n",
       "          [-0.4653, -0.4653,  0.1419,  ..., -0.4653, -0.4653, -0.4653],\n",
       "          [-0.4653, -0.4653, -0.0722,  ..., -0.4653, -0.4653, -0.4653]],\n",
       "\n",
       "         [[-0.4653, -0.4653, -0.4653,  ..., -0.4653, -0.4653, -0.4653],\n",
       "          [-0.4653, -0.4653, -0.4653,  ..., -0.4653, -0.4653, -0.4653],\n",
       "          [-0.4653, -0.4653, -0.4653,  ..., -0.4653, -0.4653, -0.4653],\n",
       "          ...,\n",
       "          [-0.4653, -0.4653, -0.4653,  ..., -0.4653, -0.4653, -0.4653],\n",
       "          [-0.4653, -0.4653, -0.4653,  ..., -0.4653, -0.4653, -0.4653],\n",
       "          [-0.4653, -0.4653, -0.4653,  ..., -0.4653, -0.4653, -0.4653]]]])"
      ]
     },
     "execution_count": 6,
     "metadata": {},
     "output_type": "execute_result"
    }
   ],
   "source": [
    "mu, std = train_X.mean(), train_X.std()\n",
    "train_X.sub_(mu).div_(std)\n",
    "test_X.sub_(mu).div_(std)"
   ]
  },
  {
   "cell_type": "markdown",
   "metadata": {},
   "source": [
    "## Model 1: Naive convnet\n",
    "For the first model, we create a naive convnet, not taking into account the structrue of the channels."
   ]
  },
  {
   "cell_type": "code",
   "execution_count": 58,
   "metadata": {},
   "outputs": [],
   "source": [
    "class convNet(nn.Module):\n",
    "    def __init__(self):\n",
    "        super(convNet, self).__init__()\n",
    "        self.conv1 = nn.Conv2d(2, 32, kernel_size=3)\n",
    "        self.conv2 = nn.Conv2d(32, 64, kernel_size=3)\n",
    "        self.fc1 = nn.Linear(256, 100)\n",
    "        self.fc2 = nn.Linear(100, 2)\n",
    "\n",
    "    def forward(self, x):\n",
    "        x = F.relu(F.max_pool2d(self.conv1(x), kernel_size=2, stride=2))\n",
    "        x = F.relu(F.max_pool2d(self.conv2(x), kernel_size=2, stride=2))\n",
    "        x = F.relu(self.fc1(x.view(-1, 256)))\n",
    "        x = self.fc2(x)\n",
    "        return x"
   ]
  },
  {
   "cell_type": "code",
   "execution_count": 59,
   "metadata": {},
   "outputs": [],
   "source": [
    "def train_model(model, criterion, optimizer, nb_epochs, minibatch_size, train_X, train_Y, verbose=False):\n",
    "    for e in range(nb_epochs):\n",
    "        for b in range(0, train_X.size(0), minibatch_size):\n",
    "            out = model(train_X.narrow(0, b, minibatch_size))\n",
    "            loss = criterion(out, train_Y.narrow(0, b, minibatch_size))\n",
    "            model.zero_grad()\n",
    "            loss.backward()\n",
    "            optimizer.step()\n",
    "        if(verbose): print(loss)\n",
    "    return model"
   ]
  },
  {
   "cell_type": "code",
   "execution_count": 60,
   "metadata": {},
   "outputs": [],
   "source": [
    "def train_model_path(model, criterion, optimizer, nb_epochs, minibatch_size, train_X, train_Y, test_X, test_Y, verbose=False):\n",
    "    train_error = []\n",
    "    test_error = []\n",
    "    for e in range(nb_epochs):\n",
    "        for b in range(0, train_X.size(0), minibatch_size):\n",
    "            out = model(train_X.narrow(0, b, minibatch_size))\n",
    "            loss = criterion(out, train_Y.narrow(0, b, minibatch_size))\n",
    "            model.zero_grad()\n",
    "            loss.backward()\n",
    "            optimizer.step()\n",
    "        train_error.append(compute_nb_errors(model, train_X, train_Y, minibatch_size))\n",
    "        test_error.append(compute_nb_errors(model, test_X, test_Y, minibatch_size))\n",
    "    return model, train_error, test_error"
   ]
  },
  {
   "cell_type": "code",
   "execution_count": 61,
   "metadata": {},
   "outputs": [],
   "source": [
    "def compute_nb_errors(model, data_input, data_target, minibatch_size):\n",
    "    nb_data_errors = 0\n",
    "    for b in range(0, data_input.size(0), minibatch_size):\n",
    "        out = model(data_input.narrow(0, b, minibatch_size))\n",
    "        _, pred = torch.max(out.data, 1)\n",
    "        for k in range(minibatch_size):\n",
    "            if data_target[b+k] != pred[k]:\n",
    "                nb_data_errors += 1\n",
    "    return nb_data_errors"
   ]
  },
  {
   "cell_type": "code",
   "execution_count": 62,
   "metadata": {
    "scrolled": true
   },
   "outputs": [],
   "source": [
    "model1 = convNet()\n",
    "model1, train_path, test_path = train_model_path(model1, nn.CrossEntropyLoss(), optim.SGD(model1.parameters(), lr=1e-1), \\\n",
    "                                                 100, 100, train_X, train_Y, test_X, test_Y, verbose=True)"
   ]
  },
  {
   "cell_type": "code",
   "execution_count": 63,
   "metadata": {},
   "outputs": [
    {
     "data": {
      "image/png": "[encoded data removed]",
      "text/plain": [
       "<Figure size 432x288 with 1 Axes>"
      ]
     },
     "metadata": {
      "needs_background": "light"
     },
     "output_type": "display_data"
    },
    {
     "data": {
      "text/plain": [
       "171"
      ]
     },
     "execution_count": 63,
     "metadata": {},
     "output_type": "execute_result"
    }
   ],
   "source": [
    "import matplotlib.pyplot as plt\n",
    "plt.plot(train_path, label = 'Train')\n",
    "plt.plot(test_path, label = 'Test')\n",
    "plt.title('Learning path for naive model')\n",
    "plt.xlabel('Epoch')\n",
    "plt.ylabel('Nb of errors (out of 1000)')\n",
    "plt.legend()\n",
    "plt.show()\n",
    "compute_nb_errors(model1, test_X, test_Y, 100)"
   ]
  },
  {
   "cell_type": "markdown",
   "metadata": {},
   "source": [
    "We observe that this model does not manage to learn the mapping very well."
   ]
  },
  {
   "cell_type": "markdown",
   "metadata": {},
   "source": [
    "## Model 2: Using transfer learning"
   ]
  },
  {
   "cell_type": "markdown",
   "metadata": {},
   "source": [
    "### Part 1: Study of a good functioning digit detection network for 28x28 images"
   ]
  },
  {
   "cell_type": "code",
   "execution_count": 12,
   "metadata": {},
   "outputs": [
    {
     "name": "stdout",
     "output_type": "stream",
     "text": [
      "* Using MNIST\n",
      "** Reduce the data-set (use --full for the full thing)\n",
      "** Use 1000 train and 1000 test samples\n"
     ]
    }
   ],
   "source": [
    "train_input, train_target, test_input, test_target = \\\n",
    "    prologue.load_data(one_hot_labels = False, normalize = True, flatten = False)\n",
    "\n",
    "class Net(nn.Module):\n",
    "    def __init__(self):\n",
    "        super(Net, self).__init__()\n",
    "        self.conv1 = nn.Conv2d(1, 32, kernel_size=5)\n",
    "        self.conv2 = nn.Conv2d(32, 64, kernel_size=5)\n",
    "        self.fc1 = nn.Linear(256, 200)\n",
    "        self.fc2 = nn.Linear(200, 10)\n",
    "\n",
    "    def forward(self, x):\n",
    "        x = F.relu(F.max_pool2d(self.conv1(x), kernel_size=3, stride=3))\n",
    "        x = F.relu(F.max_pool2d(self.conv2(x), kernel_size=2, stride=2))\n",
    "        x = F.relu(self.fc1(x.view(-1, 256)))\n",
    "        x = self.fc2(x)\n",
    "        return x"
   ]
  },
  {
   "cell_type": "code",
   "execution_count": 13,
   "metadata": {},
   "outputs": [],
   "source": [
    "train_input, train_target = Variable(train_input), Variable(train_target)\n",
    "model = Net()"
   ]
  },
  {
   "cell_type": "code",
   "execution_count": 14,
   "metadata": {
    "scrolled": true
   },
   "outputs": [],
   "source": [
    "model = train_model(model, nn.CrossEntropyLoss(), optim.SGD(model.parameters(), lr=1e-1), 50, 100, train_input, train_target)"
   ]
  },
  {
   "cell_type": "code",
   "execution_count": 15,
   "metadata": {},
   "outputs": [
    {
     "data": {
      "text/plain": [
       "66"
      ]
     },
     "execution_count": 15,
     "metadata": {},
     "output_type": "execute_result"
    }
   ],
   "source": [
    "compute_nb_errors(model, test_input, test_target, 100)"
   ]
  },
  {
   "cell_type": "markdown",
   "metadata": {},
   "source": [
    "### Part 2: Adapting the network to 14x14 images"
   ]
  },
  {
   "cell_type": "code",
   "execution_count": 16,
   "metadata": {},
   "outputs": [],
   "source": [
    "# fist, create the training and testing dataset\n",
    "train_target_14px = torch.cat((train_Class[:,0], train_Class[:,1]))\n",
    "train_input_14px = torch.cat((train_X[:,0,:,:].resize_(1000,1,14,14), train_X[:,1,:,:].resize_(1000,1,14,14)))\n",
    "\n",
    "test_target_14px = torch.cat((test_Class[:,0], test_Class[:,1]))\n",
    "test_input_14px = torch.cat((test_X[:,0,:,:].resize_(1000,1,14,14), test_X[:,1,:,:].resize_(1000,1,14,14)))\n",
    "\n",
    "train_input_14px, train_target_14px = Variable(train_input_14px), Variable(train_target_14px)"
   ]
  },
  {
   "cell_type": "code",
   "execution_count": 17,
   "metadata": {},
   "outputs": [],
   "source": [
    "class Net_14px(nn.Module):\n",
    "    def __init__(self):\n",
    "        super(Net_14px, self).__init__()\n",
    "        self.conv1 = nn.Conv2d(1, 32, kernel_size=3) \n",
    "        self.conv2 = nn.Conv2d(32, 64, kernel_size=3)\n",
    "        self.fc1 = nn.Linear(256, 100)\n",
    "        self.fc2 = nn.Linear(100, 10)\n",
    "\n",
    "    def forward(self, x):\n",
    "        x = F.relu(F.max_pool2d(self.conv1(x), kernel_size=2, stride=2)) #image size 12x12-> image size 6x6\n",
    "        x = F.relu(F.max_pool2d(self.conv2(x), kernel_size=2, stride=2)) #image size 4x4 -> image size 2x2\n",
    "        x = F.relu(self.fc1(x.view(-1, 256)))\n",
    "        x = self.fc2(x)\n",
    "        return x"
   ]
  },
  {
   "cell_type": "code",
   "execution_count": 18,
   "metadata": {
    "scrolled": true
   },
   "outputs": [
    {
     "name": "stdout",
     "output_type": "stream",
     "text": [
      "tensor(2.3069, grad_fn=<NllLossBackward>)\n",
      "tensor(2.3006, grad_fn=<NllLossBackward>)\n",
      "tensor(2.2915, grad_fn=<NllLossBackward>)\n",
      "tensor(2.2800, grad_fn=<NllLossBackward>)\n",
      "tensor(2.2678, grad_fn=<NllLossBackward>)\n",
      "tensor(2.2481, grad_fn=<NllLossBackward>)\n",
      "tensor(2.2286, grad_fn=<NllLossBackward>)\n",
      "tensor(2.2114, grad_fn=<NllLossBackward>)\n",
      "tensor(2.1890, grad_fn=<NllLossBackward>)\n",
      "tensor(2.1473, grad_fn=<NllLossBackward>)\n",
      "tensor(2.1174, grad_fn=<NllLossBackward>)\n",
      "tensor(2.0849, grad_fn=<NllLossBackward>)\n",
      "tensor(2.0435, grad_fn=<NllLossBackward>)\n",
      "tensor(2.0074, grad_fn=<NllLossBackward>)\n",
      "tensor(1.9643, grad_fn=<NllLossBackward>)\n",
      "tensor(1.9169, grad_fn=<NllLossBackward>)\n",
      "tensor(1.8726, grad_fn=<NllLossBackward>)\n",
      "tensor(1.8244, grad_fn=<NllLossBackward>)\n",
      "tensor(1.7941, grad_fn=<NllLossBackward>)\n",
      "tensor(1.7428, grad_fn=<NllLossBackward>)\n",
      "tensor(1.6930, grad_fn=<NllLossBackward>)\n",
      "tensor(1.6546, grad_fn=<NllLossBackward>)\n",
      "tensor(1.6292, grad_fn=<NllLossBackward>)\n",
      "tensor(1.5934, grad_fn=<NllLossBackward>)\n",
      "tensor(1.5419, grad_fn=<NllLossBackward>)\n",
      "tensor(1.5237, grad_fn=<NllLossBackward>)\n",
      "tensor(1.4830, grad_fn=<NllLossBackward>)\n",
      "tensor(1.4674, grad_fn=<NllLossBackward>)\n",
      "tensor(1.4478, grad_fn=<NllLossBackward>)\n",
      "tensor(1.4483, grad_fn=<NllLossBackward>)\n",
      "tensor(1.4265, grad_fn=<NllLossBackward>)\n",
      "tensor(1.4171, grad_fn=<NllLossBackward>)\n",
      "tensor(1.4116, grad_fn=<NllLossBackward>)\n",
      "tensor(1.3689, grad_fn=<NllLossBackward>)\n",
      "tensor(1.3589, grad_fn=<NllLossBackward>)\n",
      "tensor(1.3717, grad_fn=<NllLossBackward>)\n",
      "tensor(1.3747, grad_fn=<NllLossBackward>)\n",
      "tensor(1.4522, grad_fn=<NllLossBackward>)\n",
      "tensor(1.3136, grad_fn=<NllLossBackward>)\n",
      "tensor(1.2789, grad_fn=<NllLossBackward>)\n",
      "tensor(1.2299, grad_fn=<NllLossBackward>)\n",
      "tensor(1.1861, grad_fn=<NllLossBackward>)\n",
      "tensor(1.1417, grad_fn=<NllLossBackward>)\n",
      "tensor(1.1278, grad_fn=<NllLossBackward>)\n",
      "tensor(1.1168, grad_fn=<NllLossBackward>)\n",
      "tensor(1.1191, grad_fn=<NllLossBackward>)\n",
      "tensor(1.1013, grad_fn=<NllLossBackward>)\n",
      "tensor(1.0772, grad_fn=<NllLossBackward>)\n",
      "tensor(1.0538, grad_fn=<NllLossBackward>)\n",
      "tensor(1.0561, grad_fn=<NllLossBackward>)\n"
     ]
    }
   ],
   "source": [
    "model_14px = Net_14px()\n",
    "model_14px = train_model(model_14px, nn.CrossEntropyLoss(), optim.Adam(model_14px.parameters()), 50, 100, \\\n",
    "                         train_input_14px, train_target_14px, verbose=True)"
   ]
  },
  {
   "cell_type": "code",
   "execution_count": 19,
   "metadata": {},
   "outputs": [
    {
     "data": {
      "text/plain": [
       "1805"
      ]
     },
     "execution_count": 19,
     "metadata": {},
     "output_type": "execute_result"
    }
   ],
   "source": [
    "compute_nb_errors(model_14px, test_input_14px, test_target_14px, 100)"
   ]
  },
  {
   "cell_type": "markdown",
   "metadata": {},
   "source": [
    "# Model 3: Naive model with parameter sharing"
   ]
  },
  {
   "cell_type": "code",
   "execution_count": 31,
   "metadata": {},
   "outputs": [],
   "source": [
    "class convNet_v2(nn.Module):\n",
    "    def __init__(self):\n",
    "        super(convNet_v2, self).__init__()\n",
    "        self.conv1 = nn.Conv2d(1, 16, kernel_size=3)\n",
    "        self.conv2 = nn.Conv2d(16, 32, kernel_size=3)\n",
    "        self.fc1 = nn.Linear(256, 200)\n",
    "        self.fc2 = nn.Linear(200, 2)\n",
    "        self.do = nn.Dropout(0.3)\n",
    "\n",
    "    def forward(self, x):\n",
    "        x1 = F.relu(F.max_pool2d(self.conv1(x[:,0,:,:].resize(x.size(0),1,14,14)), kernel_size=2, stride=2))\n",
    "        x2 = F.relu(F.max_pool2d(self.conv1(x[:,1,:,:].resize(x.size(0),1,14,14)), kernel_size=2, stride=2))\n",
    "        x1 = F.relu(F.max_pool2d(self.conv2(x1), kernel_size=2, stride=2))\n",
    "        x2 = F.relu(F.max_pool2d(self.conv2(x2), kernel_size=2, stride=2))\n",
    "        x = F.relu(self.fc1(self.do(torch.cat((x1.view(-1, 256), x2.view(-1, 256))))))\n",
    "        x = self.fc2(x)\n",
    "        return x"
   ]
  },
  {
   "cell_type": "code",
   "execution_count": 44,
   "metadata": {},
   "outputs": [
    {
     "data": {
      "text/plain": [
       "torch.Size([2000, 1, 14, 14])"
      ]
     },
     "execution_count": 44,
     "metadata": {},
     "output_type": "execute_result"
    }
   ],
   "source": [
    "test_input_14px.size()"
   ]
  },
  {
   "cell_type": "code",
   "execution_count": 32,
   "metadata": {
    "scrolled": true
   },
   "outputs": [
    {
     "name": "stderr",
     "output_type": "stream",
     "text": [
      "C:\\Users\\yvesr\\Miniconda3\\envs\\deep_learning\\lib\\site-packages\\torch\\tensor.py:287: UserWarning: non-inplace resize is deprecated\n",
      "  warnings.warn(\"non-inplace resize is deprecated\")\n"
     ]
    },
    {
     "name": "stdout",
     "output_type": "stream",
     "text": [
      "tensor(0.6918, grad_fn=<NllLossBackward>)\n",
      "tensor(0.6990, grad_fn=<NllLossBackward>)\n",
      "tensor(0.6874, grad_fn=<NllLossBackward>)\n",
      "tensor(0.6991, grad_fn=<NllLossBackward>)\n",
      "tensor(0.6866, grad_fn=<NllLossBackward>)\n",
      "tensor(0.7008, grad_fn=<NllLossBackward>)\n",
      "tensor(0.6917, grad_fn=<NllLossBackward>)\n",
      "tensor(0.6916, grad_fn=<NllLossBackward>)\n",
      "tensor(0.6886, grad_fn=<NllLossBackward>)\n",
      "tensor(0.6901, grad_fn=<NllLossBackward>)\n",
      "tensor(0.6905, grad_fn=<NllLossBackward>)\n",
      "tensor(0.6918, grad_fn=<NllLossBackward>)\n",
      "tensor(0.6898, grad_fn=<NllLossBackward>)\n",
      "tensor(0.6856, grad_fn=<NllLossBackward>)\n",
      "tensor(0.6861, grad_fn=<NllLossBackward>)\n",
      "tensor(0.6920, grad_fn=<NllLossBackward>)\n",
      "tensor(0.6803, grad_fn=<NllLossBackward>)\n",
      "tensor(0.6908, grad_fn=<NllLossBackward>)\n",
      "tensor(0.6849, grad_fn=<NllLossBackward>)\n",
      "tensor(0.6878, grad_fn=<NllLossBackward>)\n",
      "tensor(0.6905, grad_fn=<NllLossBackward>)\n",
      "tensor(0.6832, grad_fn=<NllLossBackward>)\n",
      "tensor(0.6848, grad_fn=<NllLossBackward>)\n",
      "tensor(0.6775, grad_fn=<NllLossBackward>)\n",
      "tensor(0.6909, grad_fn=<NllLossBackward>)\n",
      "tensor(0.6826, grad_fn=<NllLossBackward>)\n",
      "tensor(0.6920, grad_fn=<NllLossBackward>)\n",
      "tensor(0.6886, grad_fn=<NllLossBackward>)\n",
      "tensor(0.6849, grad_fn=<NllLossBackward>)\n",
      "tensor(0.6881, grad_fn=<NllLossBackward>)\n",
      "tensor(0.6884, grad_fn=<NllLossBackward>)\n",
      "tensor(0.6877, grad_fn=<NllLossBackward>)\n",
      "tensor(0.6854, grad_fn=<NllLossBackward>)\n",
      "tensor(0.6857, grad_fn=<NllLossBackward>)\n",
      "tensor(0.6810, grad_fn=<NllLossBackward>)\n",
      "tensor(0.6887, grad_fn=<NllLossBackward>)\n",
      "tensor(0.6906, grad_fn=<NllLossBackward>)\n",
      "tensor(0.6845, grad_fn=<NllLossBackward>)\n",
      "tensor(0.6879, grad_fn=<NllLossBackward>)\n",
      "tensor(0.6843, grad_fn=<NllLossBackward>)\n",
      "tensor(0.6853, grad_fn=<NllLossBackward>)\n",
      "tensor(0.6827, grad_fn=<NllLossBackward>)\n",
      "tensor(0.6828, grad_fn=<NllLossBackward>)\n",
      "tensor(0.6851, grad_fn=<NllLossBackward>)\n",
      "tensor(0.6885, grad_fn=<NllLossBackward>)\n",
      "tensor(0.6793, grad_fn=<NllLossBackward>)\n",
      "tensor(0.6788, grad_fn=<NllLossBackward>)\n",
      "tensor(0.6903, grad_fn=<NllLossBackward>)\n",
      "tensor(0.6808, grad_fn=<NllLossBackward>)\n",
      "tensor(0.6842, grad_fn=<NllLossBackward>)\n",
      "tensor(0.6804, grad_fn=<NllLossBackward>)\n",
      "tensor(0.6858, grad_fn=<NllLossBackward>)\n",
      "tensor(0.6831, grad_fn=<NllLossBackward>)\n",
      "tensor(0.6805, grad_fn=<NllLossBackward>)\n",
      "tensor(0.6798, grad_fn=<NllLossBackward>)\n",
      "tensor(0.6873, grad_fn=<NllLossBackward>)\n",
      "tensor(0.6800, grad_fn=<NllLossBackward>)\n",
      "tensor(0.6792, grad_fn=<NllLossBackward>)\n",
      "tensor(0.6863, grad_fn=<NllLossBackward>)\n",
      "tensor(0.6723, grad_fn=<NllLossBackward>)\n",
      "tensor(0.6803, grad_fn=<NllLossBackward>)\n",
      "tensor(0.6800, grad_fn=<NllLossBackward>)\n",
      "tensor(0.6752, grad_fn=<NllLossBackward>)\n",
      "tensor(0.6751, grad_fn=<NllLossBackward>)\n",
      "tensor(0.6867, grad_fn=<NllLossBackward>)\n",
      "tensor(0.6739, grad_fn=<NllLossBackward>)\n",
      "tensor(0.6783, grad_fn=<NllLossBackward>)\n",
      "tensor(0.6813, grad_fn=<NllLossBackward>)\n",
      "tensor(0.6759, grad_fn=<NllLossBackward>)\n",
      "tensor(0.6787, grad_fn=<NllLossBackward>)\n",
      "tensor(0.6737, grad_fn=<NllLossBackward>)\n",
      "tensor(0.6732, grad_fn=<NllLossBackward>)\n",
      "tensor(0.6725, grad_fn=<NllLossBackward>)\n",
      "tensor(0.6770, grad_fn=<NllLossBackward>)\n",
      "tensor(0.6783, grad_fn=<NllLossBackward>)\n",
      "tensor(0.6752, grad_fn=<NllLossBackward>)\n",
      "tensor(0.6738, grad_fn=<NllLossBackward>)\n",
      "tensor(0.6749, grad_fn=<NllLossBackward>)\n",
      "tensor(0.6808, grad_fn=<NllLossBackward>)\n",
      "tensor(0.6808, grad_fn=<NllLossBackward>)\n",
      "tensor(0.6801, grad_fn=<NllLossBackward>)\n",
      "tensor(0.6763, grad_fn=<NllLossBackward>)\n",
      "tensor(0.6814, grad_fn=<NllLossBackward>)\n",
      "tensor(0.6774, grad_fn=<NllLossBackward>)\n",
      "tensor(0.6726, grad_fn=<NllLossBackward>)\n",
      "tensor(0.6807, grad_fn=<NllLossBackward>)\n",
      "tensor(0.6787, grad_fn=<NllLossBackward>)\n",
      "tensor(0.6740, grad_fn=<NllLossBackward>)\n",
      "tensor(0.6795, grad_fn=<NllLossBackward>)\n",
      "tensor(0.6758, grad_fn=<NllLossBackward>)\n",
      "tensor(0.6692, grad_fn=<NllLossBackward>)\n",
      "tensor(0.6766, grad_fn=<NllLossBackward>)\n",
      "tensor(0.6677, grad_fn=<NllLossBackward>)\n",
      "tensor(0.6731, grad_fn=<NllLossBackward>)\n",
      "tensor(0.6777, grad_fn=<NllLossBackward>)\n",
      "tensor(0.6775, grad_fn=<NllLossBackward>)\n",
      "tensor(0.6779, grad_fn=<NllLossBackward>)\n",
      "tensor(0.6749, grad_fn=<NllLossBackward>)\n",
      "tensor(0.6649, grad_fn=<NllLossBackward>)\n",
      "tensor(0.6679, grad_fn=<NllLossBackward>)\n"
     ]
    }
   ],
   "source": [
    "model3 = convNet_v2()\n",
    "model3 = train_model(model3, nn.CrossEntropyLoss(), optim.SGD(model3.parameters(), lr=1e-2), 100, 100, train_X, train_Y, verbose=True)"
   ]
  },
  {
   "cell_type": "code",
   "execution_count": 33,
   "metadata": {},
   "outputs": [
    {
     "data": {
      "text/plain": [
       "475"
      ]
     },
     "execution_count": 33,
     "metadata": {},
     "output_type": "execute_result"
    }
   ],
   "source": [
    "model.train(False)\n",
    "compute_nb_errors(model3, test_X, test_Y, 100)"
   ]
  },
  {
   "cell_type": "code",
   "execution_count": null,
   "metadata": {},
   "outputs": [],
   "source": []
  }
 ],
 "metadata": {
  "kernelspec": {
   "display_name": "Python 3",
   "language": "python",
   "name": "python3"
  },
  "language_info": {
   "codemirror_mode": {
    "name": "ipython",
    "version": 3
   },
   "file_extension": ".py",
   "mimetype": "text/x-python",
   "name": "python",
   "nbconvert_exporter": "python",
   "pygments_lexer": "ipython3",
   "version": "3.7.2"
  }
 },
 "nbformat": 4,
 "nbformat_minor": 2
}
