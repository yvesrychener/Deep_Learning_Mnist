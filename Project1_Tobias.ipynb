{
 "cells": [
  {
   "cell_type": "markdown",
   "metadata": {},
   "source": [
    "# MNIST Project"
   ]
  },
  {
   "cell_type": "markdown",
   "metadata": {},
   "source": [
    "## Imports"
   ]
  },
  {
   "cell_type": "code",
   "execution_count": 1,
   "metadata": {},
   "outputs": [],
   "source": [
    "import torch\n",
    "from torch import Tensor \n",
    "from torch import nn\n",
    "from torch import optim\n",
    "from torch.nn import functional as F\n",
    "from torch.autograd import Variable\n",
    "import src.dlc_practical_prologue as prologue\n",
    "import matplotlib.pyplot as plt"
   ]
  },
  {
   "cell_type": "markdown",
   "metadata": {},
   "source": [
    "## Loading the Data"
   ]
  },
  {
   "cell_type": "code",
   "execution_count": 2,
   "metadata": {},
   "outputs": [],
   "source": [
    "def onehot_Y(target):\n",
    "    '''\n",
    "    Create one-hot labels for Y\n",
    "    '''\n",
    "    res = torch.zeros(target.size(0), 2)\n",
    "    res[range(target.size(0)), target] = 1\n",
    "    return res"
   ]
  },
  {
   "cell_type": "code",
   "execution_count": 3,
   "metadata": {},
   "outputs": [],
   "source": [
    "def onehot_Class(target):\n",
    "    res = torch.zeros(target.size(0), 10*target.size(1))\n",
    "    res[range(target.size(0)), target[:, 0]] = 1\n",
    "    res[range(target.size(0)), target[:, 1] + 10] = 1\n",
    "    return res"
   ]
  },
  {
   "cell_type": "code",
   "execution_count": 7,
   "metadata": {
    "scrolled": true
   },
   "outputs": [],
   "source": [
    "N = 1000\n",
    "train_X, train_Y, train_Class, test_X, test_Y, test_Class = prologue.generate_pair_sets(N)"
   ]
  },
  {
   "cell_type": "code",
   "execution_count": 8,
   "metadata": {},
   "outputs": [],
   "source": [
    "#train_Y = onehot_Y(train_Y).long()\n",
    "#train_Class = onehot_Class(train_Class).long()\n",
    "#test_Y = onehot_Y(test_Y).long()\n",
    "#test_Class = onehot_Class(test_Class).long()"
   ]
  },
  {
   "cell_type": "code",
   "execution_count": 9,
   "metadata": {
    "scrolled": true
   },
   "outputs": [],
   "source": [
    "%%capture\n",
    "mu, std = train_X.mean(), train_X.std()\n",
    "train_X.sub_(mu).div_(std)\n",
    "test_X.sub_(mu).div_(std)"
   ]
  },
  {
   "cell_type": "markdown",
   "metadata": {},
   "source": [
    "## Model 1: Naive convnet\n",
    "For the first model, we create a naive convnet, not taking into account the structrue of the channels."
   ]
  },
  {
   "cell_type": "code",
   "execution_count": 10,
   "metadata": {},
   "outputs": [],
   "source": [
    "class convNet(nn.Module):\n",
    "    def __init__(self):\n",
    "        super(convNet, self).__init__()\n",
    "        self.conv1 = nn.Conv2d(2, 32, kernel_size=3)\n",
    "        self.conv2 = nn.Conv2d(32, 64, kernel_size=3)\n",
    "        self.fc1 = nn.Linear(256, 100)\n",
    "        self.fc2 = nn.Linear(100, 2)\n",
    "\n",
    "    def forward(self, x):\n",
    "        x = F.relu(F.max_pool2d(self.conv1(x), kernel_size=2, stride=2))\n",
    "        x = F.relu(F.max_pool2d(self.conv2(x), kernel_size=2, stride=2))\n",
    "        x = F.relu(self.fc1(x.view(-1, 256)))\n",
    "        x = self.fc2(x)\n",
    "        return x"
   ]
  },
  {
   "cell_type": "code",
   "execution_count": 57,
   "metadata": {},
   "outputs": [],
   "source": [
    "def train_model(model, criterion, optimizer, nb_epochs, minibatch_size, train_X, train_Y, verbose=False, regularization=None):\n",
    "    for e in range(nb_epochs):\n",
    "        for b in range(0, train_X.size(0), minibatch_size):\n",
    "            out = model(train_X.narrow(0, b, minibatch_size))\n",
    "            loss = criterion(out, train_Y.narrow(0, b, minibatch_size)) \n",
    "            if regularization != None:\n",
    "                for p in model.parameters():\n",
    "                    loss += regularization * p.abs().sum() / len(p)\n",
    "                #loss += model.parameters\n",
    "            model.zero_grad()\n",
    "            loss.backward()\n",
    "            optimizer.step()\n",
    "        if(verbose): print(loss)\n",
    "    return model"
   ]
  },
  {
   "cell_type": "code",
   "execution_count": 58,
   "metadata": {},
   "outputs": [],
   "source": [
    "def train_model_path(model, criterion, optimizer, nb_epochs, minibatch_size, train_X, \\\n",
    "                     train_Y, test_X, test_Y, verbose=False, regularization=None):\n",
    "    train_error = []\n",
    "    test_error = []\n",
    "    for e in range(nb_epochs):\n",
    "        for b in range(0, train_X.size(0), minibatch_size):\n",
    "            out = model(train_X.narrow(0, b, minibatch_size))\n",
    "            loss = criterion(out, train_Y.narrow(0, b, minibatch_size))\n",
    "            if regularization != None:\n",
    "                for p in model.parameters():\n",
    "                    loss += regularization * p.abs().sum() / len(p)\n",
    "            model.zero_grad()\n",
    "            loss.backward()\n",
    "            optimizer.step()\n",
    "        train_error.append(compute_nb_errors(model, train_X, train_Y, minibatch_size))\n",
    "        test_error.append(compute_nb_errors(model, test_X, test_Y, minibatch_size))\n",
    "    return model, train_error, test_error"
   ]
  },
  {
   "cell_type": "code",
   "execution_count": 13,
   "metadata": {},
   "outputs": [],
   "source": [
    "def compute_nb_errors(model, data_input, data_target, minibatch_size):\n",
    "    nb_data_errors = 0\n",
    "    for b in range(0, data_input.size(0), minibatch_size):\n",
    "        out = model(data_input.narrow(0, b, minibatch_size))\n",
    "        _, pred = torch.max(out.data, 1)\n",
    "        for k in range(minibatch_size):\n",
    "            if data_target[b+k] != pred[k]:\n",
    "                nb_data_errors += 1\n",
    "    return nb_data_errors"
   ]
  },
  {
   "cell_type": "code",
   "execution_count": 14,
   "metadata": {
    "scrolled": true
   },
   "outputs": [],
   "source": [
    "model1 = convNet()\n",
    "model1, train_path, test_path = train_model_path(model1, nn.CrossEntropyLoss(), optim.SGD(model1.parameters(), lr=1e-1), \\\n",
    "                                                 100, 100, train_X, train_Y, test_X, test_Y, verbose=True)"
   ]
  },
  {
   "cell_type": "code",
   "execution_count": 15,
   "metadata": {},
   "outputs": [
    {
     "data": {
      "image/png": "[encoded data removed]",
      "text/plain": [
       "<Figure size 432x288 with 1 Axes>"
      ]
     },
     "metadata": {
      "needs_background": "light"
     },
     "output_type": "display_data"
    },
    {
     "name": "stdout",
     "output_type": "stream",
     "text": [
      "Final Test Error: 178/1000\n"
     ]
    }
   ],
   "source": [
    "plt.plot(train_path, label = 'Train')\n",
    "plt.plot(test_path, label = 'Test')\n",
    "plt.title('Learning path for naive model')\n",
    "plt.xlabel('Epoch')\n",
    "plt.ylabel('Nb of errors (out of 1000)')\n",
    "plt.legend()\n",
    "plt.show()\n",
    "print('Final Test Error: {}/1000'.format(compute_nb_errors(model1, test_X, test_Y, 100)))"
   ]
  },
  {
   "cell_type": "markdown",
   "metadata": {},
   "source": [
    "We observe that this model does not manage to learn the mapping very well."
   ]
  },
  {
   "cell_type": "markdown",
   "metadata": {},
   "source": [
    "## Model 2: Using transfer learning"
   ]
  },
  {
   "cell_type": "markdown",
   "metadata": {},
   "source": [
    "### Part 1: Study of a good functioning digit detection network for 28x28 images"
   ]
  },
  {
   "cell_type": "code",
   "execution_count": 16,
   "metadata": {},
   "outputs": [
    {
     "name": "stdout",
     "output_type": "stream",
     "text": [
      "* Using MNIST\n",
      "** Reduce the data-set (use --full for the full thing)\n",
      "** Use 1000 train and 1000 test samples\n"
     ]
    }
   ],
   "source": [
    "train_input, train_target, test_input, test_target = \\\n",
    "    prologue.load_data(one_hot_labels = False, normalize = True, flatten = False)\n",
    "\n",
    "class Net(nn.Module):\n",
    "    def __init__(self):\n",
    "        super(Net, self).__init__()\n",
    "        self.conv1 = nn.Conv2d(1, 32, kernel_size=5)\n",
    "        self.conv2 = nn.Conv2d(32, 64, kernel_size=5)\n",
    "        self.fc1 = nn.Linear(256, 200)\n",
    "        self.fc2 = nn.Linear(200, 10)\n",
    "\n",
    "    def forward(self, x):\n",
    "        x = F.relu(F.max_pool2d(self.conv1(x), kernel_size=3, stride=3))\n",
    "        x = F.relu(F.max_pool2d(self.conv2(x), kernel_size=2, stride=2))\n",
    "        x = F.relu(self.fc1(x.view(-1, 256)))\n",
    "        x = self.fc2(x)\n",
    "        return x"
   ]
  },
  {
   "cell_type": "code",
   "execution_count": 17,
   "metadata": {},
   "outputs": [],
   "source": [
    "train_input, train_target = Variable(train_input), Variable(train_target)\n",
    "model = Net()"
   ]
  },
  {
   "cell_type": "code",
   "execution_count": 18,
   "metadata": {
    "scrolled": true
   },
   "outputs": [],
   "source": [
    "model = train_model(model, nn.CrossEntropyLoss(), optim.SGD(model.parameters(), lr=1e-1), 50, 100, train_input, train_target)"
   ]
  },
  {
   "cell_type": "code",
   "execution_count": 19,
   "metadata": {},
   "outputs": [
    {
     "name": "stdout",
     "output_type": "stream",
     "text": [
      "Final Test Error: 67/1000\n"
     ]
    }
   ],
   "source": [
    "print('Final Test Error: {}/1000'.format(compute_nb_errors(model, test_input, test_target, 100)))"
   ]
  },
  {
   "cell_type": "markdown",
   "metadata": {},
   "source": [
    "### Part 2: Adapting the network to 14x14 images"
   ]
  },
  {
   "cell_type": "code",
   "execution_count": 20,
   "metadata": {},
   "outputs": [],
   "source": [
    "# fist, create the training and testing dataset\n",
    "train_target_14px = torch.cat((train_Class[:,0], train_Class[:,1]))\n",
    "train_input_14px = torch.cat((train_X[:,0,:,:].view(1000,1,14,14), train_X[:,1,:,:].view(1000,1,14,14)))\n",
    "\n",
    "test_target_14px = torch.cat((test_Class[:,0], test_Class[:,1]))\n",
    "test_input_14px = torch.cat((test_X[:,0,:,:].view(1000,1,14,14), test_X[:,1,:,:].view(1000,1,14,14)))\n",
    "\n",
    "train_input_14px, train_target_14px = Variable(train_input_14px), Variable(train_target_14px)"
   ]
  },
  {
   "cell_type": "code",
   "execution_count": 21,
   "metadata": {},
   "outputs": [],
   "source": [
    "class Net_14px(nn.Module):\n",
    "    def __init__(self):\n",
    "        super(Net_14px, self).__init__()\n",
    "        self.conv1 = nn.Conv2d(1, 32, kernel_size=3) \n",
    "        self.conv2 = nn.Conv2d(32, 64, kernel_size=3)\n",
    "        self.fc1 = nn.Linear(256, 100)\n",
    "        self.fc2 = nn.Linear(100, 10)\n",
    "\n",
    "    def forward(self, x):\n",
    "        x = F.relu(F.max_pool2d(self.conv1(x), kernel_size=2, stride=2)) #image size 12x12-> image size 6x6\n",
    "        x = F.relu(F.max_pool2d(self.conv2(x), kernel_size=2, stride=2)) #image size 4x4 -> image size 2x2\n",
    "        x = F.relu(self.fc1(x.view(-1, 256)))\n",
    "        x = self.fc2(x)\n",
    "        return x"
   ]
  },
  {
   "cell_type": "code",
   "execution_count": 22,
   "metadata": {
    "scrolled": true
   },
   "outputs": [],
   "source": [
    "model_14px = Net_14px()\n",
    "model_14px, train_path, test_path = train_model_path(model_14px, nn.CrossEntropyLoss(), optim.SGD(model_14px.parameters(), lr=1e-1), 50, 100, \\\n",
    "                         train_input_14px, train_target_14px, test_input_14px, test_target_14px, verbose=True)"
   ]
  },
  {
   "cell_type": "code",
   "execution_count": 23,
   "metadata": {},
   "outputs": [
    {
     "data": {
      "image/png": "[encoded data removed]",
      "text/plain": [
       "<Figure size 432x288 with 1 Axes>"
      ]
     },
     "metadata": {
      "needs_background": "light"
     },
     "output_type": "display_data"
    },
    {
     "name": "stdout",
     "output_type": "stream",
     "text": [
      "Final Test Error: 70/2000\n"
     ]
    }
   ],
   "source": [
    "plt.plot(train_path, label = 'Train')\n",
    "plt.plot(test_path, label = 'Test')\n",
    "plt.title('Learning path for naive model')\n",
    "plt.xlabel('Epoch')\n",
    "plt.ylabel('Nb of errors (out of 2000)')\n",
    "plt.legend()\n",
    "plt.show()\n",
    "print('Final Test Error: {}/2000'.format(compute_nb_errors(model_14px, test_input_14px, test_target_14px, 100)))\n"
   ]
  },
  {
   "cell_type": "markdown",
   "metadata": {},
   "source": [
    "Now, let's define the siamese model with parameter sharing:"
   ]
  },
  {
   "cell_type": "code",
   "execution_count": 24,
   "metadata": {},
   "outputs": [],
   "source": [
    "class siamese_Net(nn.Module):\n",
    "    def __init__(self):\n",
    "        super(siamese_Net, self).__init__()\n",
    "        self.conv1 = nn.Conv2d(1, 32, kernel_size=3) \n",
    "        self.conv2 = nn.Conv2d(32, 64, kernel_size=3)\n",
    "        self.fc1 = nn.Linear(256, 100)\n",
    "        self.fc3 = nn.Linear(200, 10)\n",
    "        self.fc4 = nn.Linear(10,2)\n",
    "\n",
    "    def forward(self, x):\n",
    "        x1 = F.relu(F.max_pool2d(self.conv1(x[:,0,:,:].view(x.size(0),1,14,14)), kernel_size=2, stride=2)) #image size 12x12-> image size 6x6\n",
    "        x1 = F.relu(F.max_pool2d(self.conv2(x1), kernel_size=2, stride=2)) #image size 4x4 -> image size 2x2\n",
    "        x1 = F.relu(self.fc1(x1.view(-1, 256)))\n",
    "        x2 = F.relu(F.max_pool2d(self.conv1(x[:,1,:,:].view(x.size(0),1,14,14)), kernel_size=2, stride=2)) #image size 12x12-> image size 6x6\n",
    "        x2 = F.relu(F.max_pool2d(self.conv2(x2), kernel_size=2, stride=2)) #image size 4x4 -> image size 2x2\n",
    "        x2 = F.relu(self.fc1(x2.view(-1, 256)))\n",
    "        x = F.relu(self.fc3(torch.cat((x1.view(-1,100), x2.view(-1, 100)), 1)))\n",
    "        x = self.fc4(x)\n",
    "        return x"
   ]
  },
  {
   "cell_type": "code",
   "execution_count": 25,
   "metadata": {},
   "outputs": [],
   "source": [
    "sNet = siamese_Net()"
   ]
  },
  {
   "cell_type": "code",
   "execution_count": 26,
   "metadata": {},
   "outputs": [],
   "source": [
    "torch.save(model_14px.state_dict(), 'networks/model_14px.pt')"
   ]
  },
  {
   "cell_type": "code",
   "execution_count": 27,
   "metadata": {},
   "outputs": [],
   "source": [
    "sNet.load_state_dict(torch.load('networks/model_14px.pt'), strict=False)"
   ]
  },
  {
   "cell_type": "code",
   "execution_count": 28,
   "metadata": {},
   "outputs": [],
   "source": [
    "sNet, train_path, test_path = train_model_path(sNet, nn.CrossEntropyLoss(), optim.SGD(sNet.parameters(), lr=1e-1), \\\n",
    "                                                 50, 100, train_X, train_Y, test_X, test_Y, verbose=True)"
   ]
  },
  {
   "cell_type": "code",
   "execution_count": 29,
   "metadata": {
    "scrolled": true
   },
   "outputs": [
    {
     "data": {
      "image/png": "[encoded data removed]",
      "text/plain": [
       "<Figure size 432x288 with 1 Axes>"
      ]
     },
     "metadata": {
      "needs_background": "light"
     },
     "output_type": "display_data"
    },
    {
     "name": "stdout",
     "output_type": "stream",
     "text": [
      "Final Test Error: 107/1000\n"
     ]
    }
   ],
   "source": [
    "plt.plot(train_path, label = 'Train')\n",
    "plt.plot(test_path, label = 'Test')\n",
    "plt.title('Learning path for naive model')\n",
    "plt.xlabel('Epoch')\n",
    "plt.ylabel('Nb of errors (out of 1000)')\n",
    "plt.legend()\n",
    "plt.show()\n",
    "print('Final Test Error: {}/1000'.format(compute_nb_errors(sNet, test_X, test_Y, 100)))"
   ]
  },
  {
   "cell_type": "markdown",
   "metadata": {},
   "source": [
    "# Model 3: Siamese Net without Pretraining"
   ]
  },
  {
   "cell_type": "code",
   "execution_count": 30,
   "metadata": {},
   "outputs": [],
   "source": [
    "sNet2 = siamese_Net()"
   ]
  },
  {
   "cell_type": "code",
   "execution_count": 31,
   "metadata": {},
   "outputs": [],
   "source": [
    "sNet2, train_path, test_path = train_model_path(sNet2, nn.CrossEntropyLoss(), optim.SGD(sNet2.parameters(), lr=1e-1), \\\n",
    "                                                 50, 100, train_X, train_Y, test_X, test_Y, verbose=True)"
   ]
  },
  {
   "cell_type": "code",
   "execution_count": 32,
   "metadata": {},
   "outputs": [
    {
     "data": {
      "image/png": "[encoded data removed]",
      "text/plain": [
       "<Figure size 432x288 with 1 Axes>"
      ]
     },
     "metadata": {
      "needs_background": "light"
     },
     "output_type": "display_data"
    },
    {
     "name": "stdout",
     "output_type": "stream",
     "text": [
      "Final Test Error: 140/1000\n"
     ]
    }
   ],
   "source": [
    "plt.plot(train_path, label = 'Train')\n",
    "plt.plot(test_path, label = 'Test')\n",
    "plt.title('Learning path for naive model')\n",
    "plt.xlabel('Epoch')\n",
    "plt.ylabel('Nb of errors (out of 1000)')\n",
    "plt.legend()\n",
    "plt.show()\n",
    "print('Final Test Error: {}/1000'.format(compute_nb_errors(sNet2, test_X, test_Y, 100)))"
   ]
  },
  {
   "cell_type": "markdown",
   "metadata": {},
   "source": [
    "### ..with weight decay (L1 reg.)"
   ]
  },
  {
   "cell_type": "code",
   "execution_count": 45,
   "metadata": {},
   "outputs": [],
   "source": [
    "sNet3 = siamese_Net()"
   ]
  },
  {
   "cell_type": "code",
   "execution_count": 46,
   "metadata": {},
   "outputs": [],
   "source": [
    "sNet3.load_state_dict(torch.load('networks/model_14px.pt'), strict=False)"
   ]
  },
  {
   "cell_type": "code",
   "execution_count": null,
   "metadata": {},
   "outputs": [],
   "source": [
    "for p in sNet3.conv1.parameters():\n",
    "    p.requires_grad = True\n",
    "for p in sNet3.conv2.parameters():\n",
    "    p.requires_grad = True\n",
    "for p in sNet3.fc1.parameters():\n",
    "    p.requires_grad = True\n",
    "\n",
    "for p in sNet3.fc3.parameters():\n",
    "    p.requires_grad = True\n",
    "for p in sNet3.fc4.parameters():\n",
    "    p.requires_grad = True"
   ]
  },
  {
   "cell_type": "code",
   "execution_count": 71,
   "metadata": {},
   "outputs": [],
   "source": [
    "sNet3, train_path, test_path = train_model_path(sNet3, nn.CrossEntropyLoss(), \\\n",
    "                                                optim.SGD(sNet3.parameters(), lr=4*1e-2), \\\n",
    "                                                150, 100, train_X, train_Y, test_X, test_Y, verbose=True, regularization=0.1)"
   ]
  },
  {
   "cell_type": "code",
   "execution_count": 72,
   "metadata": {
    "scrolled": true
   },
   "outputs": [
    {
     "data": {
      "image/png": "[encoded data removed]",
      "text/plain": [
       "<Figure size 432x288 with 1 Axes>"
      ]
     },
     "metadata": {
      "needs_background": "light"
     },
     "output_type": "display_data"
    },
    {
     "name": "stdout",
     "output_type": "stream",
     "text": [
      "Final Test Error: 157/1000\n"
     ]
    }
   ],
   "source": [
    "plt.plot(train_path, label = 'Train')\n",
    "plt.plot(test_path, label = 'Test')\n",
    "plt.title('Learning path for naive model')\n",
    "plt.xlabel('Epoch')\n",
    "plt.ylabel('Nb of errors (out of 1000)')\n",
    "plt.legend()\n",
    "plt.show()\n",
    "print('Final Test Error: {}/1000'.format(compute_nb_errors(sNet3, test_X, test_Y, 100)))"
   ]
  },
  {
   "cell_type": "code",
   "execution_count": null,
   "metadata": {},
   "outputs": [],
   "source": []
  }
 ],
 "metadata": {
  "kernelspec": {
   "display_name": "Python 3",
   "language": "python",
   "name": "python3"
  },
  "language_info": {
   "codemirror_mode": {
    "name": "ipython",
    "version": 3
   },
   "file_extension": ".py",
   "mimetype": "text/x-python",
   "name": "python",
   "nbconvert_exporter": "python",
   "pygments_lexer": "ipython3",
   "version": "3.7.2"
  }
 },
 "nbformat": 4,
 "nbformat_minor": 2
}
